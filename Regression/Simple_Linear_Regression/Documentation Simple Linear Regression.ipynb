{
 "cells": [
  {
   "cell_type": "markdown",
   "metadata": {},
   "source": [
    "# Simple Linear Regression"
   ]
  },
  {
   "cell_type": "markdown",
   "metadata": {},
   "source": [
    "## Theory\n",
    "\n",
    "A simple linear regression quantifies the relationship nature between two variables, which we will call X (independent variable) and y (dependent variable).\n",
    "It estimates how much y will change when X changes, and with it we can predict the y value given an X value using a linear relationship that will be described by the following expression:\n",
    "\n",
    "\\begin{equation}\n",
    "y = b_0 + b_1X\n",
    "\\end{equation}\n",
    "\n",
    "b<sub>1</sub> being called the coefficient and b<sub>0</sub> the constant.\n",
    "The constant is where the line crosses the y axes and the coefficient is the slope of the line.\n",
    "\n",
    "The simple linear regression, given some amount of data, finds the best fitting line to predict y.\n",
    "<b>but what is \"the best fitting line\"? and how to find it?</b>\n",
    "\n",
    "given a line, for a number in X, we have the y<sub>i</sub>(that is the actual value that corresponds to x), ŷ<sub>i</sub>(that is the predicted value - where the line is in y for this point in X) and the difference between the observed (y) and the model (ŷ).\n",
    "To get the best fitting line we have to get the sum of the square of all these differences (that is called residual sum of squares)\n",
    "\n",
    "\\begin{equation}\n",
    "RSS = \\sum_{i=1}^n{(y_i-\\hat{y}_i)^2} = \\sum_{i=1}^n({y_i-\\hat{b}_0-\\hat{b}_1X})^2\n",
    "\\end{equation}\n",
    "\n",
    "then find the line where you get the minimum sum, calculating $\\hat{b}_0$ and $\\hat{b}_1$ by using:\n",
    "\n",
    "\\begin{equation}\n",
    "\\hat{b}_1 = \\frac{\\sum_{i=1}^n{(y_i-\\bar{y})(X_i-\\bar{X})}}{\\sum_{i=1}^n{(X_i-\\bar{X})^2}}\n",
    "\\end{equation}\n",
    "\n",
    "and,\n",
    "\n",
    "\\begin{equation}\n",
    "\\hat{b}_0 = \\bar{y}-\\hat{b}_1\\bar{X}\n",
    "\\end{equation}\n",
    "\n",
    "therefore\n",
    "\n",
    "\\begin{equation}\n",
    "RSS = \\sum_{i=1}^n\\left({y_i-\\bar{y}-\\left(\\frac{\\sum_{i=1}^n{(y_i-\\bar{y})(X_i-\\bar{X})}}{\\sum_{i=1}^n{(X_i-\\bar{X})^2}}\\right)\\bar{X}-\\left(\\frac{\\sum_{i=1}^n{(y_i-\\bar{y})(X_i-\\bar{X})}}{\\sum_{i=1}^n{(X_i-\\bar{X})^2}}\\right)X}\\right)^2\n",
    "\\end{equation}"
   ]
  },
  {
   "cell_type": "markdown",
   "metadata": {},
   "source": [
    "## Code"
   ]
  },
  {
   "cell_type": "code",
   "execution_count": null,
   "metadata": {},
   "outputs": [],
   "source": []
  }
 ],
 "metadata": {
  "kernelspec": {
   "display_name": "Python 3",
   "language": "python",
   "name": "python3"
  },
  "language_info": {
   "codemirror_mode": {
    "name": "ipython",
    "version": 3
   },
   "file_extension": ".py",
   "mimetype": "text/x-python",
   "name": "python",
   "nbconvert_exporter": "python",
   "pygments_lexer": "ipython3",
   "version": "3.8.5"
  }
 },
 "nbformat": 4,
 "nbformat_minor": 4
}
